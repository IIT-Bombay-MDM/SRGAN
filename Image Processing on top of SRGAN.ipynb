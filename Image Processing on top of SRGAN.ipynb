{
 "cells": [
  {
   "cell_type": "markdown",
   "id": "5cafc205-3eac-4b42-bd82-7a71b0ebdbb9",
   "metadata": {},
   "source": [
    "## Image Sharpening"
   ]
  },
  {
   "cell_type": "code",
   "execution_count": 12,
   "id": "534ce832-50d6-433c-82f6-edf200817b10",
   "metadata": {},
   "outputs": [
    {
     "name": "stdout",
     "output_type": "stream",
     "text": [
      "Sharpened image saved as 'srgan_output_sharpened.png'\n"
     ]
    }
   ],
   "source": [
    "import cv2\n",
    "import numpy as np\n",
    "\n",
    "# Load SRGAN output\n",
    "srgan_output = cv2.imread(\"srgan_output.png\")\n",
    "\n",
    "# Apply a sharpening kernel\n",
    "sharpening_kernel = np.array([[0, -1, 0],\n",
    "                               [-1, 5, -1],\n",
    "                               [0, -1, 0]])\n",
    "sharpened_image = cv2.filter2D(srgan_output, -1, sharpening_kernel)\n",
    "\n",
    "# Save the sharpened image\n",
    "cv2.imwrite(\"srgan_output_sharpened.png\", sharpened_image)\n",
    "print(\"Sharpened image saved as 'srgan_output_sharpened.png'\")"
   ]
  },
  {
   "cell_type": "markdown",
   "id": "989992cf-a4bc-434b-bd2f-c30cf4aa2dc6",
   "metadata": {},
   "source": [
    "## Image Denoising"
   ]
  },
  {
   "cell_type": "code",
   "execution_count": 30,
   "id": "3273e563-b481-4071-ae6e-e3fcbd6449ae",
   "metadata": {},
   "outputs": [
    {
     "name": "stdout",
     "output_type": "stream",
     "text": [
      "Refined denoised image saved as 'srgan_output_refined_denoised.png'\n"
     ]
    }
   ],
   "source": [
    "# Apply non-local means denoising with reduced strength\n",
    "denoised_image = cv2.fastNlMeansDenoisingColored(\n",
    "    sharpened_image, \n",
    "    None, \n",
    "    5,  # Reduce strength of luminance filtering\n",
    "    5,  # Reduce strength of color filtering\n",
    "    7,  # Keep default template size\n",
    "    21  # Keep default search window size\n",
    ")\n",
    "\n",
    "# Save the refined denoised image\n",
    "cv2.imwrite(\"srgan_output_denoised.png\", denoised_image)\n",
    "print(\"Refined denoised image saved as 'srgan_output_refined_denoised.png'\")"
   ]
  },
  {
   "cell_type": "markdown",
   "id": "36e44792-4e71-4219-bf2d-35069fd11d6b",
   "metadata": {},
   "source": [
    "## Gamma Correction"
   ]
  },
  {
   "cell_type": "code",
   "execution_count": 32,
   "id": "60bcd1d9-60e7-422e-a22a-cb9e16731fbb",
   "metadata": {},
   "outputs": [
    {
     "name": "stdout",
     "output_type": "stream",
     "text": [
      "Gamma corrected image saved as 'srgan_output_gamma_corrected.png'\n"
     ]
    }
   ],
   "source": [
    "def gamma_correction(image, gamma=1.2):\n",
    "    inv_gamma = 1.0 / gamma\n",
    "    table = np.array([((i / 255.0) ** inv_gamma) * 255 for i in range(256)]).astype(\"uint8\")\n",
    "    return cv2.LUT(image, table)\n",
    "\n",
    "gamma_corrected_image = gamma_correction(denoised_image)\n",
    "\n",
    "# Save the gamma-corrected image\n",
    "cv2.imwrite(\"srgan_output_gamma_corrected.png\", gamma_corrected_image)\n",
    "print(\"Gamma corrected image saved as 'srgan_output_gamma_corrected.png'\")"
   ]
  },
  {
   "cell_type": "code",
   "execution_count": null,
   "id": "158970a5-4d81-4412-a6fb-511eff76c0d8",
   "metadata": {},
   "outputs": [],
   "source": []
  }
 ],
 "metadata": {
  "kernelspec": {
   "display_name": "Python 3 (ipykernel)",
   "language": "python",
   "name": "python3"
  },
  "language_info": {
   "codemirror_mode": {
    "name": "ipython",
    "version": 3
   },
   "file_extension": ".py",
   "mimetype": "text/x-python",
   "name": "python",
   "nbconvert_exporter": "python",
   "pygments_lexer": "ipython3",
   "version": "3.12.4"
  }
 },
 "nbformat": 4,
 "nbformat_minor": 5
}
